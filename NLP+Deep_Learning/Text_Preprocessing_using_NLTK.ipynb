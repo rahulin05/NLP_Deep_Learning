{
  "nbformat": 4,
  "nbformat_minor": 0,
  "metadata": {
    "kernelspec": {
      "display_name": "Python 3",
      "language": "python",
      "name": "python3"
    },
    "language_info": {
      "codemirror_mode": {
        "name": "ipython",
        "version": 3
      },
      "file_extension": ".py",
      "mimetype": "text/x-python",
      "name": "python",
      "nbconvert_exporter": "python",
      "pygments_lexer": "ipython3",
      "version": "3.6.8"
    },
    "colab": {
      "name": "Text_Preprocessing_using_NLTK.ipynb",
      "provenance": [],
      "include_colab_link": true
    }
  },
  "cells": [
    {
      "cell_type": "markdown",
      "metadata": {
        "id": "view-in-github",
        "colab_type": "text"
      },
      "source": [
        "<a href=\"https://colab.research.google.com/github/rahulin05/NLP_Deep_Learning/blob/master/NLP%2BDeep_Learning/Text_Preprocessing_using_NLTK.ipynb\" target=\"_parent\"><img src=\"https://colab.research.google.com/assets/colab-badge.svg\" alt=\"Open In Colab\"/></a>"
      ]
    },
    {
      "cell_type": "markdown",
      "metadata": {
        "id": "bq5-N-WZnClA",
        "colab_type": "text"
      },
      "source": [
        "## NLTK - Natural Language Toolkit\n",
        "\n",
        "NLTK is a leading platform for building Python programs to work with human language data. It provides easy-to-use interfaces to over 50 corpora and lexical resources such as WordNet, along with a suite of text processing libraries for classification, tokenization, stemming, tagging, parsing, and semantic reasoning, wrappers for industrial-strength NLP libraries, and an active discussion forum. NLTK is suitable for linguists, engineers, students, educators, researchers, and industry users alike. NLTK is available for Windows, Mac OS X, and Linux. Best of all, NLTK is a free, open source, community-driven project. \n",
        "For more details - www.nltk.org"
      ]
    },
    {
      "cell_type": "code",
      "metadata": {
        "id": "-AiI6IDFo4-_",
        "colab_type": "code",
        "colab": {
          "base_uri": "https://localhost:8080/",
          "height": 34
        },
        "outputId": "283dd9db-608d-492d-e304-c51308744cd9"
      },
      "source": [
        "from google.colab import drive\n",
        "drive.mount('/content/gdrive')"
      ],
      "execution_count": 13,
      "outputs": [
        {
          "output_type": "stream",
          "text": [
            "Drive already mounted at /content/gdrive; to attempt to forcibly remount, call drive.mount(\"/content/gdrive\", force_remount=True).\n"
          ],
          "name": "stdout"
        }
      ]
    },
    {
      "cell_type": "code",
      "metadata": {
        "id": "cwKwtVq6rq3m",
        "colab_type": "code",
        "colab": {
          "base_uri": "https://localhost:8080/",
          "height": 34
        },
        "outputId": "9ec73e79-f5b0-402f-f127-e6ccca1221ce"
      },
      "source": [
        "%cd /content/gdrive/My\\ Drive/"
      ],
      "execution_count": 14,
      "outputs": [
        {
          "output_type": "stream",
          "text": [
            "/content/gdrive/My Drive\n"
          ],
          "name": "stdout"
        }
      ]
    },
    {
      "cell_type": "code",
      "metadata": {
        "id": "J7SU_h2VsEtD",
        "colab_type": "code",
        "colab": {
          "base_uri": "https://localhost:8080/",
          "height": 34
        },
        "outputId": "aaa41beb-5167-4379-8ab4-ac48d6323a35"
      },
      "source": [
        "!pwd"
      ],
      "execution_count": 17,
      "outputs": [
        {
          "output_type": "stream",
          "text": [
            "/content/gdrive/My Drive\n"
          ],
          "name": "stdout"
        }
      ]
    },
    {
      "cell_type": "markdown",
      "metadata": {
        "id": "aP7--jovnClF",
        "colab_type": "text"
      },
      "source": [
        "#### Loading required libraries"
      ]
    },
    {
      "cell_type": "code",
      "metadata": {
        "id": "VJZVKJKGnClH",
        "colab_type": "code",
        "colab": {}
      },
      "source": [
        "import pandas as pd\n",
        "import re\n",
        "import os\n",
        "\n",
        "import nltk\n",
        "from nltk.tokenize import word_tokenize\n",
        "from nltk.corpus import stopwords\n",
        "from nltk.stem.porter import *\n",
        "\n",
        "from collections import defaultdict\n",
        "\n",
        "# nltk.download('wordnet')\n",
        "from nltk.stem import WordNetLemmatizer\n",
        "from nltk.corpus import wordnet\n",
        "\n",
        "import numpy as np\n",
        "import matplotlib.pyplot as plt\n",
        "%matplotlib inline\n",
        "\n",
        "from sklearn.feature_extraction.text import TfidfVectorizer\n",
        "from sklearn.cluster import KMeans\n",
        "from sklearn import metrics\n",
        "\n",
        "from IPython.display import Image\n",
        "\n",
        "#!pip install wordcloud\n",
        "from wordcloud import WordCloud\n",
        "\n",
        "from itertools import chain"
      ],
      "execution_count": 0,
      "outputs": []
    },
    {
      "cell_type": "code",
      "metadata": {
        "id": "-NYk7HcBnClK",
        "colab_type": "code",
        "colab": {}
      },
      "source": [
        "import warnings\n",
        "warnings.filterwarnings(\"ignore\")"
      ],
      "execution_count": 0,
      "outputs": []
    },
    {
      "cell_type": "markdown",
      "metadata": {
        "id": "fLc7RK33nClN",
        "colab_type": "text"
      },
      "source": [
        "#### Reading data from text files"
      ]
    },
    {
      "cell_type": "code",
      "metadata": {
        "id": "GllCWgiGnClO",
        "colab_type": "code",
        "colab": {}
      },
      "source": [
        "PATH = os.getcwd()"
      ],
      "execution_count": 0,
      "outputs": []
    },
    {
      "cell_type": "code",
      "metadata": {
        "id": "N6genoI3nClR",
        "colab_type": "code",
        "colab": {
          "base_uri": "https://localhost:8080/",
          "height": 34
        },
        "outputId": "6b58c32e-588b-446c-ff81-7a0c02ef96f1"
      },
      "source": [
        "documents = []     # list of text samples\n",
        "labels = []        # list of label ids\n",
        "labels_Index = {}  # dictionary mapping label index to label name\n",
        "\n",
        "PATH = '/content/gdrive/My Drive/NLTK/Pre-Processing/'\n",
        "\n",
        "TEXT_DATA_DIR = os.path.join(PATH, \"docs\")\n",
        "\n",
        "for name in os.listdir(TEXT_DATA_DIR):\n",
        "    path = os.path.join(TEXT_DATA_DIR, name)\n",
        "    if os.path.isdir(path):\n",
        "        label_Id = len(labels_Index)\n",
        "        labels_Index[label_Id] = name\n",
        "        for fname in sorted(os.listdir(path)):\n",
        "            fpath = os.path.join(path, fname)\n",
        "            f = open(fpath, encoding = \"ISO-8859-1\")\n",
        "            t = f.read()\n",
        "            documents.append(t)\n",
        "            f.close()\n",
        "            labels.append(label_Id)\n",
        "\n",
        "print('Found %s docs.' % len(documents))"
      ],
      "execution_count": 19,
      "outputs": [
        {
          "output_type": "stream",
          "text": [
            "Found 36 docs.\n"
          ],
          "name": "stdout"
        }
      ]
    },
    {
      "cell_type": "code",
      "metadata": {
        "id": "PFGQFDqonClW",
        "colab_type": "code",
        "colab": {
          "base_uri": "https://localhost:8080/",
          "height": 34
        },
        "outputId": "0292ec9f-c533-44b4-acc5-ff11c1a0bc82"
      },
      "source": [
        "print(labels)"
      ],
      "execution_count": 20,
      "outputs": [
        {
          "output_type": "stream",
          "text": [
            "[0, 0, 0, 0, 0, 0, 0, 0, 0, 0, 0, 0, 1, 1, 1, 1, 1, 1, 1, 1, 1, 1, 1, 1, 2, 2, 2, 2, 2, 2, 2, 2, 2, 2, 2, 2]\n"
          ],
          "name": "stdout"
        }
      ]
    },
    {
      "cell_type": "code",
      "metadata": {
        "id": "ctzT-lwqnCla",
        "colab_type": "code",
        "colab": {
          "base_uri": "https://localhost:8080/",
          "height": 34
        },
        "outputId": "320427c4-3934-4dab-e9c5-1dadf5fa3b29"
      },
      "source": [
        "print(labels_Index)"
      ],
      "execution_count": 21,
      "outputs": [
        {
          "output_type": "stream",
          "text": [
            "{0: 'obama', 1: 'kalam', 2: 'romney'}\n"
          ],
          "name": "stdout"
        }
      ]
    },
    {
      "cell_type": "markdown",
      "metadata": {
        "id": "9SrlABlynCld",
        "colab_type": "text"
      },
      "source": [
        "#### Create a dataframe with the documents and the labels "
      ]
    },
    {
      "cell_type": "code",
      "metadata": {
        "id": "MpgdAB4OnCle",
        "colab_type": "code",
        "colab": {}
      },
      "source": [
        "list_of_tuples = list(zip(documents, labels))"
      ],
      "execution_count": 0,
      "outputs": []
    },
    {
      "cell_type": "code",
      "metadata": {
        "id": "HFhLxuBSnClg",
        "colab_type": "code",
        "colab": {}
      },
      "source": [
        "df = pd.DataFrame(list_of_tuples, columns = ['speech_text', 'speaker'])"
      ],
      "execution_count": 0,
      "outputs": []
    },
    {
      "cell_type": "code",
      "metadata": {
        "id": "1U5nn3AtnClj",
        "colab_type": "code",
        "colab": {
          "base_uri": "https://localhost:8080/",
          "height": 1000
        },
        "outputId": "a8ba69d9-a93f-4a52-a935-d63d9955f9c7"
      },
      "source": [
        "df"
      ],
      "execution_count": 24,
      "outputs": [
        {
          "output_type": "execute_result",
          "data": {
            "text/html": [
              "<div>\n",
              "<style scoped>\n",
              "    .dataframe tbody tr th:only-of-type {\n",
              "        vertical-align: middle;\n",
              "    }\n",
              "\n",
              "    .dataframe tbody tr th {\n",
              "        vertical-align: top;\n",
              "    }\n",
              "\n",
              "    .dataframe thead th {\n",
              "        text-align: right;\n",
              "    }\n",
              "</style>\n",
              "<table border=\"1\" class=\"dataframe\">\n",
              "  <thead>\n",
              "    <tr style=\"text-align: right;\">\n",
              "      <th></th>\n",
              "      <th>speech_text</th>\n",
              "      <th>speaker</th>\n",
              "    </tr>\n",
              "  </thead>\n",
              "  <tbody>\n",
              "    <tr>\n",
              "      <th>0</th>\n",
              "      <td>If there is anyone out there who still doubts ...</td>\n",
              "      <td>0</td>\n",
              "    </tr>\n",
              "    <tr>\n",
              "      <th>1</th>\n",
              "      <td>I stand here today humbled by the task before ...</td>\n",
              "      <td>0</td>\n",
              "    </tr>\n",
              "    <tr>\n",
              "      <th>2</th>\n",
              "      <td>What a scene. What a crowd. Thank you for Virg...</td>\n",
              "      <td>0</td>\n",
              "    </tr>\n",
              "    <tr>\n",
              "      <th>3</th>\n",
              "      <td>To Chairman Dean and my great friend Dick Durb...</td>\n",
              "      <td>0</td>\n",
              "    </tr>\n",
              "    <tr>\n",
              "      <th>4</th>\n",
              "      <td>Tonight, after fifty-four hard-fought contests...</td>\n",
              "      <td>0</td>\n",
              "    </tr>\n",
              "    <tr>\n",
              "      <th>5</th>\n",
              "      <td>You know, some were saying that North Carolina...</td>\n",
              "      <td>0</td>\n",
              "    </tr>\n",
              "    <tr>\n",
              "      <th>6</th>\n",
              "      <td>I stand before you as someone who is not oppos...</td>\n",
              "      <td>0</td>\n",
              "    </tr>\n",
              "    <tr>\n",
              "      <th>7</th>\n",
              "      <td>On behalf of the great state of Illinois, cros...</td>\n",
              "      <td>0</td>\n",
              "    </tr>\n",
              "    <tr>\n",
              "      <th>8</th>\n",
              "      <td>Thank you. It's an honor to be here tonight to...</td>\n",
              "      <td>0</td>\n",
              "    </tr>\n",
              "    <tr>\n",
              "      <th>9</th>\n",
              "      <td>Mr. President, I have come to the floor today ...</td>\n",
              "      <td>0</td>\n",
              "    </tr>\n",
              "    <tr>\n",
              "      <th>10</th>\n",
              "      <td>I want to congratulate all of you at Campus Pr...</td>\n",
              "      <td>0</td>\n",
              "    </tr>\n",
              "    <tr>\n",
              "      <th>11</th>\n",
              "      <td>Mr. President, I rise to speak about an amendm...</td>\n",
              "      <td>0</td>\n",
              "    </tr>\n",
              "    <tr>\n",
              "      <th>12</th>\n",
              "      <td>Nation Building with Moral Leadership\\n\\nI wil...</td>\n",
              "      <td>1</td>\n",
              "    </tr>\n",
              "    <tr>\n",
              "      <th>13</th>\n",
              "      <td>Research missions for doubling the food produc...</td>\n",
              "      <td>1</td>\n",
              "    </tr>\n",
              "    <tr>\n",
              "      <th>14</th>\n",
              "      <td>Dear friends, I am happy to address and intera...</td>\n",
              "      <td>1</td>\n",
              "    </tr>\n",
              "    <tr>\n",
              "      <th>15</th>\n",
              "      <td>Excellence in thinking and actions\\n\\nI am bor...</td>\n",
              "      <td>1</td>\n",
              "    </tr>\n",
              "    <tr>\n",
              "      <th>16</th>\n",
              "      <td>Dear Friends, I am delighted to meet and inter...</td>\n",
              "      <td>1</td>\n",
              "    </tr>\n",
              "    <tr>\n",
              "      <th>17</th>\n",
              "      <td>Imagination results into creativity\\nCreativit...</td>\n",
              "      <td>1</td>\n",
              "    </tr>\n",
              "    <tr>\n",
              "      <th>18</th>\n",
              "      <td>SCIENCE IS RECIPROCATING\\n\\n\"When you wish upo...</td>\n",
              "      <td>1</td>\n",
              "    </tr>\n",
              "    <tr>\n",
              "      <th>19</th>\n",
              "      <td>It does not matter who you are\\n\\nNow I would ...</td>\n",
              "      <td>1</td>\n",
              "    </tr>\n",
              "    <tr>\n",
              "      <th>20</th>\n",
              "      <td>I am delighted to meet and interact with the s...</td>\n",
              "      <td>1</td>\n",
              "    </tr>\n",
              "    <tr>\n",
              "      <th>21</th>\n",
              "      <td>I have seen three dreams which have taken shap...</td>\n",
              "      <td>1</td>\n",
              "    </tr>\n",
              "    <tr>\n",
              "      <th>22</th>\n",
              "      <td>I am delighted to inaugurate the first IEEE In...</td>\n",
              "      <td>1</td>\n",
              "    </tr>\n",
              "    <tr>\n",
              "      <th>23</th>\n",
              "      <td>Sustainable development refers to a mode of hu...</td>\n",
              "      <td>1</td>\n",
              "    </tr>\n",
              "    <tr>\n",
              "      <th>24</th>\n",
              "      <td>ROMNEY: Thank you. Thank you. Thank you. Thank...</td>\n",
              "      <td>2</td>\n",
              "    </tr>\n",
              "    <tr>\n",
              "      <th>25</th>\n",
              "      <td>Thank you. Its good to be in the home state o...</td>\n",
              "      <td>2</td>\n",
              "    </tr>\n",
              "    <tr>\n",
              "      <th>26</th>\n",
              "      <td>Thank you all. Its great to be back in Iowa. ...</td>\n",
              "      <td>2</td>\n",
              "    </tr>\n",
              "    <tr>\n",
              "      <th>27</th>\n",
              "      <td>I particularly appreciate the introduction fro...</td>\n",
              "      <td>2</td>\n",
              "    </tr>\n",
              "    <tr>\n",
              "      <th>28</th>\n",
              "      <td>Thank you, Mr. President. I appreciate the kin...</td>\n",
              "      <td>2</td>\n",
              "    </tr>\n",
              "    <tr>\n",
              "      <th>29</th>\n",
              "      <td>Thank you, Hector, for that warm introduction....</td>\n",
              "      <td>2</td>\n",
              "    </tr>\n",
              "    <tr>\n",
              "      <th>30</th>\n",
              "      <td>Major General Vavala, thank you for your gener...</td>\n",
              "      <td>2</td>\n",
              "    </tr>\n",
              "    <tr>\n",
              "      <th>31</th>\n",
              "      <td>Mr. Chairman, delegates. I accept your nominat...</td>\n",
              "      <td>2</td>\n",
              "    </tr>\n",
              "    <tr>\n",
              "      <th>32</th>\n",
              "      <td>Thank you, Ohio. Its good to be back in the B...</td>\n",
              "      <td>2</td>\n",
              "    </tr>\n",
              "    <tr>\n",
              "      <th>33</th>\n",
              "      <td>September 21, 2012, Written words nor my own s...</td>\n",
              "      <td>2</td>\n",
              "    </tr>\n",
              "    <tr>\n",
              "      <th>34</th>\n",
              "      <td>Ladies and gentlemen:\\n\\nIts great to be back...</td>\n",
              "      <td>2</td>\n",
              "    </tr>\n",
              "    <tr>\n",
              "      <th>35</th>\n",
              "      <td>Thank you, New Hampshire! Tonight, we made his...</td>\n",
              "      <td>2</td>\n",
              "    </tr>\n",
              "  </tbody>\n",
              "</table>\n",
              "</div>"
            ],
            "text/plain": [
              "                                          speech_text  speaker\n",
              "0   If there is anyone out there who still doubts ...        0\n",
              "1   I stand here today humbled by the task before ...        0\n",
              "2   What a scene. What a crowd. Thank you for Virg...        0\n",
              "3   To Chairman Dean and my great friend Dick Durb...        0\n",
              "4   Tonight, after fifty-four hard-fought contests...        0\n",
              "5   You know, some were saying that North Carolina...        0\n",
              "6   I stand before you as someone who is not oppos...        0\n",
              "7   On behalf of the great state of Illinois, cros...        0\n",
              "8   Thank you. It's an honor to be here tonight to...        0\n",
              "9   Mr. President, I have come to the floor today ...        0\n",
              "10  I want to congratulate all of you at Campus Pr...        0\n",
              "11  Mr. President, I rise to speak about an amendm...        0\n",
              "12  Nation Building with Moral Leadership\\n\\nI wil...        1\n",
              "13  Research missions for doubling the food produc...        1\n",
              "14  Dear friends, I am happy to address and intera...        1\n",
              "15  Excellence in thinking and actions\\n\\nI am bor...        1\n",
              "16  Dear Friends, I am delighted to meet and inter...        1\n",
              "17  Imagination results into creativity\\nCreativit...        1\n",
              "18  SCIENCE IS RECIPROCATING\\n\\n\"When you wish upo...        1\n",
              "19  It does not matter who you are\\n\\nNow I would ...        1\n",
              "20  I am delighted to meet and interact with the s...        1\n",
              "21  I have seen three dreams which have taken shap...        1\n",
              "22  I am delighted to inaugurate the first IEEE In...        1\n",
              "23  Sustainable development refers to a mode of hu...        1\n",
              "24  ROMNEY: Thank you. Thank you. Thank you. Thank...        2\n",
              "25  Thank you. Its good to be in the home state o...        2\n",
              "26  Thank you all. Its great to be back in Iowa. ...        2\n",
              "27  I particularly appreciate the introduction fro...        2\n",
              "28  Thank you, Mr. President. I appreciate the kin...        2\n",
              "29  Thank you, Hector, for that warm introduction....        2\n",
              "30  Major General Vavala, thank you for your gener...        2\n",
              "31  Mr. Chairman, delegates. I accept your nominat...        2\n",
              "32  Thank you, Ohio. Its good to be back in the B...        2\n",
              "33  September 21, 2012, Written words nor my own s...        2\n",
              "34  Ladies and gentlemen:\\n\\nIts great to be back...        2\n",
              "35  Thank you, New Hampshire! Tonight, we made his...        2"
            ]
          },
          "metadata": {
            "tags": []
          },
          "execution_count": 24
        }
      ]
    },
    {
      "cell_type": "code",
      "metadata": {
        "id": "nFMg44V0nClm",
        "colab_type": "code",
        "colab": {
          "base_uri": "https://localhost:8080/",
          "height": 34
        },
        "outputId": "57a79c2e-9eba-473e-fa7f-d44a1d4c7355"
      },
      "source": [
        "Image(\"img/NLTK3.png\",width=700)"
      ],
      "execution_count": 25,
      "outputs": [
        {
          "output_type": "execute_result",
          "data": {
            "image/png": "img/NLTK3.png",
            "text/plain": [
              "<IPython.core.display.Image object>"
            ]
          },
          "metadata": {
            "tags": [],
            "image/png": {
              "width": 700
            }
          },
          "execution_count": 25
        }
      ]
    },
    {
      "cell_type": "markdown",
      "metadata": {
        "id": "vWvGaUe-nClr",
        "colab_type": "text"
      },
      "source": [
        "#### Function for Text Pre-processing"
      ]
    },
    {
      "cell_type": "code",
      "metadata": {
        "id": "srVAa5QqnCls",
        "colab_type": "code",
        "colab": {}
      },
      "source": [
        "def pre_process_text(text):\n",
        "    \n",
        "    # 1. Remove non-letters   \n",
        "\n",
        "    letters_only = re.sub(\"[^a-zA-Z]\", \" \", text) \n",
        "    \n",
        "    # 2. Convert to lower case, split into individual words\n",
        "    \n",
        "    words = letters_only.lower().split()\n",
        "    \n",
        "    # 3. In Python, searching a set is much faster than searching a list, so convert the stop words to a set\n",
        "    stops = set(stopwords.words(\"english\"))  \n",
        "\n",
        "    # 4. Remove stop words\n",
        "\n",
        "    meaningful_words = [w for w in words if not w in stops]\n",
        "    # meaningful_words = [word for word in meaningful_words if len(word) > 1]\n",
        "   \n",
        "    return( \" \".join( meaningful_words ))\n"
      ],
      "execution_count": 0,
      "outputs": []
    },
    {
      "cell_type": "markdown",
      "metadata": {
        "id": "0FzGfMeqnClw",
        "colab_type": "text"
      },
      "source": [
        "#### Applying text pre-processing on the final dataframe"
      ]
    },
    {
      "cell_type": "code",
      "metadata": {
        "id": "YHMAtKuZnClx",
        "colab_type": "code",
        "colab": {}
      },
      "source": [
        "df['clean_text'] = df.speech_text.apply(pre_process_text)"
      ],
      "execution_count": 0,
      "outputs": []
    },
    {
      "cell_type": "markdown",
      "metadata": {
        "id": "vDFRGiAUnCl1",
        "colab_type": "text"
      },
      "source": [
        "__Stemmers vs. Lemmatizers__\n",
        "* Both stemmers and lemmatizers try to bring inflected words to the same form\n",
        "* Stemmers use an algorithmic approach of removing prefixes and suffixes. The result might not be an actual dictionary word.\n",
        "* Lemmatizers use a corpus. The result is always a dictionary word.\n",
        "* Lemmatizers need extra info about the part of speech they are processing.\n",
        "* Stemmers are faster than lemmatizers\n",
        "\n",
        "When to use stemmers and when to use lemmatizers? few guidelines:\n",
        "* If speed is important, use stemmers (lemmatizers have to search through a corpus while stemmers do simple operations on a string)\n",
        "* If you just want to make sure that the system you are building is tolerant to inflections, use stemmers (If you query for “best hotel in New York”, you would accept an article on “Best hotels in New York 2016″)\n",
        "* If you need the actual dictionary word, use a lemmatizer. (for example, if you are building a natural language generation system)\n",
        "\n",
        "How do stemmers work?\n",
        "\n",
        "* Stemmers are extremely simple to use and very fast. They work by applying different transformation rules on the word until no other transformation can be applied.\n"
      ]
    },
    {
      "cell_type": "markdown",
      "metadata": {
        "id": "kVMekN9gnCl2",
        "colab_type": "text"
      },
      "source": [
        "#### Function for Lemmatization"
      ]
    },
    {
      "cell_type": "code",
      "metadata": {
        "id": "AmIKjf_onCl3",
        "colab_type": "code",
        "colab": {}
      },
      "source": [
        "# Lemmatize with POS Tag\n",
        "\n",
        "# WordNet is the lexical database i.e. dictionary for the English language, specifically designed for natural language processing.\n",
        "# The WordNet is a part of Python's Natural Language Toolkit. It is a large word database of English Nouns, Adjectives, Adverbs and Verbs.\n",
        "\n",
        "# WordNetLemmatizer requires Pos tags to understand if the word is noun or verb or adjective etc. By default it is set to 'Noun'\n",
        "\n",
        "def lemmatize_text(preprocessed_text):\n",
        "    \n",
        "    def get_wordnet_pos(word):\n",
        "        \"\"\"Map POS tag to first character lemmatize() accepts\"\"\"\n",
        "\n",
        "        tag = nltk.pos_tag([word])[0][1][0].upper()\n",
        "        tag_dict = {\"J\": wordnet.ADJ,\n",
        "                    \"N\": wordnet.NOUN,\n",
        "                    \"V\": wordnet.VERB,\n",
        "                    \"R\": wordnet.ADV}\n",
        "\n",
        "        return tag_dict.get(tag, wordnet.NOUN)\n",
        "\n",
        "\n",
        "    # 1. Init Lemmatizer\n",
        "    lemmatizer = WordNetLemmatizer()\n",
        "\n",
        "    # 2. Lemmatize a Sentence with the appropriate POS tag\n",
        "\n",
        "    lemmatized_text=[lemmatizer.lemmatize(w, get_wordnet_pos(w)) for w in nltk.word_tokenize(preprocessed_text)]\n",
        "    \n",
        "    # The final processed set of words for each iteration will be stored in 'text_final'\n",
        "    text_final=(\" \".join( lemmatized_text ))\n",
        "    return text_final\n"
      ],
      "execution_count": 0,
      "outputs": []
    },
    {
      "cell_type": "markdown",
      "metadata": {
        "id": "2HqVvPjRnCl6",
        "colab_type": "text"
      },
      "source": [
        "#### Useful link to understand POS tagging\n",
        "https://www.ling.upenn.edu/courses/Fall_2003/ling001/penn_treebank_pos.html"
      ]
    },
    {
      "cell_type": "markdown",
      "metadata": {
        "id": "--RaU-yCnCl7",
        "colab_type": "text"
      },
      "source": [
        "#### Applying Lemmatization on cleaned text"
      ]
    },
    {
      "cell_type": "code",
      "metadata": {
        "id": "SYdiafO0nCl8",
        "colab_type": "code",
        "colab": {}
      },
      "source": [
        "df['lemmatized_text'] = df.clean_text.apply(lemmatize_text)"
      ],
      "execution_count": 0,
      "outputs": []
    },
    {
      "cell_type": "markdown",
      "metadata": {
        "id": "Xn_cKE8cnCl-",
        "colab_type": "text"
      },
      "source": [
        "#### Function for Stemming"
      ]
    },
    {
      "cell_type": "code",
      "metadata": {
        "id": "mFuX-wNSnCl_",
        "colab_type": "code",
        "colab": {}
      },
      "source": [
        "def stem_text(preprocessed_text):\n",
        "    \n",
        "    stemmer = PorterStemmer()\n",
        "    stemmed_text = [stemmer.stem(txt) for txt in nltk.word_tokenize(preprocessed_text)]\n",
        "    \n",
        "    # The final processed set of words for each iteration will be stored in 'text_stem'\n",
        "    text_stem=(\" \".join( stemmed_text ))\n",
        "    return text_stem"
      ],
      "execution_count": 0,
      "outputs": []
    },
    {
      "cell_type": "markdown",
      "metadata": {
        "id": "ouGwdrOnnCmC",
        "colab_type": "text"
      },
      "source": [
        "#### Applying Stemming on cleaned text"
      ]
    },
    {
      "cell_type": "code",
      "metadata": {
        "id": "13v1fKCxnCmD",
        "colab_type": "code",
        "colab": {}
      },
      "source": [
        "df['stemmed_text'] = df.clean_text.apply(stem_text)"
      ],
      "execution_count": 0,
      "outputs": []
    },
    {
      "cell_type": "markdown",
      "metadata": {
        "id": "CZXrrYRbnCmG",
        "colab_type": "text"
      },
      "source": [
        "#### Let us understand the output from different pre-processing steps"
      ]
    },
    {
      "cell_type": "code",
      "metadata": {
        "id": "HvJygE-5nCmH",
        "colab_type": "code",
        "colab": {
          "base_uri": "https://localhost:8080/",
          "height": 54
        },
        "outputId": "ad643fb7-73bc-449b-f947-a100319275b0"
      },
      "source": [
        "# First few rows from Original document\n",
        "df['speech_text'][0][0:990]"
      ],
      "execution_count": 40,
      "outputs": [
        {
          "output_type": "execute_result",
          "data": {
            "text/plain": [
              "'If there is anyone out there who still doubts that America is a place where all things are possible; who still wonders if the dream of our founders is alive in our time; who still questions the power of our democracy, tonight is your answer.\\n\\nIt\\x92s the answer told by lines that stretched around schools and churches in numbers this nation has never seen; by people who waited three hours and four hours, many for the very first time in their lives, because they believed that this time must be different; that their voice could be that difference.\\n\\nIt\\x92s the answer spoken by young and old, rich and poor, Democrat and Republican, black, white, Latino, Asian, Native American, gay, straight, disabled and not disabled \\x96 Americans who sent a message to the world that we have never been a collection of Red States and Blue States: we are, and always will be, the United States of America.\\n\\nIt\\x92s the answer that led those who have been told for so long by so many to be cynical, and fearful, a'"
            ]
          },
          "metadata": {
            "tags": []
          },
          "execution_count": 40
        }
      ]
    },
    {
      "cell_type": "code",
      "metadata": {
        "id": "2DKe3v6_nCnJ",
        "colab_type": "code",
        "colab": {
          "base_uri": "https://localhost:8080/",
          "height": 54
        },
        "outputId": "26366a4b-1ae8-4151-a6cc-7797145f92ff"
      },
      "source": [
        "# First few rows from cleaned document\n",
        "df['clean_text'][0][0:990]"
      ],
      "execution_count": 41,
      "outputs": [
        {
          "output_type": "execute_result",
          "data": {
            "text/plain": [
              "'anyone still doubts america place things possible still wonders dream founders alive time still questions power democracy tonight answer answer told lines stretched around schools churches numbers nation never seen people waited three hours four hours many first time lives believed time must different voice could difference answer spoken young old rich poor democrat republican black white latino asian native american gay straight disabled disabled americans sent message world never collection red states blue states always united states america answer led told long many cynical fearful doubtful achieve put hands arc history bend toward hope better day long time coming tonight day election defining moment change come america received gracious call senator mccain fought long hard campaign fought even longer harder country loves endured sacrifices america us cannot begin imagine better service rendered brave selfless leader congratulate governor palin achieved look forward workin'"
            ]
          },
          "metadata": {
            "tags": []
          },
          "execution_count": 41
        }
      ]
    },
    {
      "cell_type": "code",
      "metadata": {
        "id": "lZap9q1qnCnO",
        "colab_type": "code",
        "colab": {
          "base_uri": "https://localhost:8080/",
          "height": 54
        },
        "outputId": "345bb9eb-b990-470a-dc3e-980a74d2fff9"
      },
      "source": [
        "# First few rows from lemmatized document\n",
        "df['lemmatized_text'][0][0:990]"
      ],
      "execution_count": 42,
      "outputs": [
        {
          "output_type": "execute_result",
          "data": {
            "text/plain": [
              "'anyone still doubt america place thing possible still wonder dream founder alive time still question power democracy tonight answer answer told line stretch around school church number nation never see people wait three hour four hour many first time life believe time must different voice could difference answer spoken young old rich poor democrat republican black white latino asian native american gay straight disabled disabled american sent message world never collection red state blue state always united state america answer lead told long many cynical fearful doubtful achieve put hand arc history bend toward hope well day long time come tonight day election define moment change come america receive gracious call senator mccain fought long hard campaign fought even longer harder country love endure sacrifice america u can not begin imagine well service render brave selfless leader congratulate governor palin achieve look forward work renew nation promise month ahead want t'"
            ]
          },
          "metadata": {
            "tags": []
          },
          "execution_count": 42
        }
      ]
    },
    {
      "cell_type": "code",
      "metadata": {
        "id": "DxJTp6YbnCnR",
        "colab_type": "code",
        "colab": {
          "base_uri": "https://localhost:8080/",
          "height": 54
        },
        "outputId": "e1becc09-bf9b-4120-ff34-bef7e4a2f84d"
      },
      "source": [
        "# First few rows from stemmed document\n",
        "df['stemmed_text'][0][0:990]"
      ],
      "execution_count": 43,
      "outputs": [
        {
          "output_type": "execute_result",
          "data": {
            "text/plain": [
              "'anyon still doubt america place thing possibl still wonder dream founder aliv time still question power democraci tonight answer answer told line stretch around school church number nation never seen peopl wait three hour four hour mani first time live believ time must differ voic could differ answer spoken young old rich poor democrat republican black white latino asian nativ american gay straight disabl disabl american sent messag world never collect red state blue state alway unit state america answer led told long mani cynic fear doubt achiev put hand arc histori bend toward hope better day long time come tonight day elect defin moment chang come america receiv graciou call senat mccain fought long hard campaign fought even longer harder countri love endur sacrific america us can not begin imagin better servic render brave selfless leader congratul governor palin achiev look forward work renew nation promis month ahead want thank partner journey man campaign heart spoke m'"
            ]
          },
          "metadata": {
            "tags": []
          },
          "execution_count": 43
        }
      ]
    },
    {
      "cell_type": "markdown",
      "metadata": {
        "id": "Mimz1-IQnCnT",
        "colab_type": "text"
      },
      "source": [
        "* Here we will be considering Lemmatized text for calculating TF-IDF"
      ]
    },
    {
      "cell_type": "markdown",
      "metadata": {
        "id": "cDQIqZIFnCnU",
        "colab_type": "text"
      },
      "source": [
        "#### Frequent words count"
      ]
    },
    {
      "cell_type": "code",
      "metadata": {
        "id": "qXfw-kmgnCnV",
        "colab_type": "code",
        "colab": {
          "base_uri": "https://localhost:8080/",
          "height": 538
        },
        "outputId": "52856915-fed4-4c89-a41b-720b251d47d2"
      },
      "source": [
        "top_N = 30\n",
        "\n",
        "join_text = df['lemmatized_text'].str.cat(sep=' ')\n",
        "\n",
        "words = nltk.tokenize.word_tokenize(join_text)\n",
        "\n",
        "word_dist = nltk.FreqDist(words)\n",
        "output = pd.DataFrame(word_dist.most_common(top_N),\n",
        "                    columns=['Word', 'Frequency'])\n",
        "print(output)"
      ],
      "execution_count": 44,
      "outputs": [
        {
          "output_type": "stream",
          "text": [
            "         Word  Frequency\n",
            "0     america        310\n",
            "1        work        264\n",
            "2         one        257\n",
            "3     science        245\n",
            "4    american        232\n",
            "5           u        227\n",
            "6      nation        218\n",
            "7   president        209\n",
            "8      people        207\n",
            "9        year        202\n",
            "10       make        197\n",
            "11       time        182\n",
            "12        job        168\n",
            "13         go        164\n",
            "14       need        161\n",
            "15      would        159\n",
            "16    country        157\n",
            "17       life        156\n",
            "18       like        156\n",
            "19      world        155\n",
            "20      great        153\n",
            "21      child        151\n",
            "22        new        150\n",
            "23       know        150\n",
            "24       come        149\n",
            "25    student        147\n",
            "26       well        146\n",
            "27       take        146\n",
            "28        say        141\n",
            "29       give        139\n"
          ],
          "name": "stdout"
        }
      ]
    },
    {
      "cell_type": "markdown",
      "metadata": {
        "id": "PBaUFz2PnCnt",
        "colab_type": "text"
      },
      "source": [
        "#### Plotting frequency plot"
      ]
    },
    {
      "cell_type": "code",
      "metadata": {
        "id": "gyeYSRmGnCnu",
        "colab_type": "code",
        "colab": {
          "base_uri": "https://localhost:8080/",
          "height": 1000
        },
        "outputId": "ee58b388-fc88-40e4-ef85-be5b748ba188"
      },
      "source": [
        "font = {'family' : 'Arial',\n",
        "        'weight' : 'bold',\n",
        "        'size'   : 50}\n",
        "\n",
        "plt.rc('font', **font)\n",
        "fig = plt.figure(figsize=(60,60))\n",
        "plt.barh(output['Word'], output['Frequency'])\n",
        "plt.gca().invert_yaxis()\n",
        "plt.show()"
      ],
      "execution_count": 45,
      "outputs": [
        {
          "output_type": "stream",
          "text": [
            "findfont: Font family ['Arial'] not found. Falling back to DejaVu Sans.\n"
          ],
          "name": "stderr"
        },
        {
          "output_type": "display_data",
          "data": {
            "image/png": "[encoded data removed]",
            "text/plain": [
              "<Figure size 4320x4320 with 1 Axes>"
            ]
          },
          "metadata": {
            "tags": []
          }
        }
      ]
    },
    {
      "cell_type": "markdown",
      "metadata": {
        "id": "XngMXJZ2nCnw",
        "colab_type": "text"
      },
      "source": [
        "#### Visualizing most frequent words using Word cloud"
      ]
    },
    {
      "cell_type": "code",
      "metadata": {
        "id": "sH6htx1znCnx",
        "colab_type": "code",
        "colab": {
          "base_uri": "https://localhost:8080/",
          "height": 310
        },
        "outputId": "aadd56eb-5fc5-4487-f134-0b79c944ce80"
      },
      "source": [
        "wordcloud = WordCloud(max_font_size=80, max_words=25, background_color=\"red\",width=800, height=400, margin=2,).generate(' '.join(df['lemmatized_text']))\n",
        "plt.figure( figsize=(10,6) )\n",
        "plt.imshow(wordcloud)\n",
        "plt.axis(\"off\")\n",
        "plt.show()"
      ],
      "execution_count": 46,
      "outputs": [
        {
          "output_type": "display_data",
          "data": {
            "image/png": "[encoded data removed]",
            "text/plain": [
              "<Figure size 720x432 with 1 Axes>"
            ]
          },
          "metadata": {
            "tags": []
          }
        }
      ]
    },
    {
      "cell_type": "markdown",
      "metadata": {
        "id": "hc7hZoa2nCnz",
        "colab_type": "text"
      },
      "source": [
        "### Calculate TF-TDF\n",
        "####  Term Frequency: This summarizes how often a given word appears within a document\n",
        "#### Inverse Document Frequency: This down scales words that appear a lot across documents"
      ]
    },
    {
      "cell_type": "code",
      "metadata": {
        "id": "s9kYVSuxnCn0",
        "colab_type": "code",
        "colab": {
          "base_uri": "https://localhost:8080/",
          "height": 34
        },
        "outputId": "92e729b2-3762-4136-c50b-2f5f56b06cce"
      },
      "source": [
        "# Extending stop words list\n",
        "stop_words = stopwords.words('english')\n",
        "\n",
        "stop_words.extend(['one','use','give','u','go','take','know','come','say'])\n",
        "\n",
        "Tfidf_vect = TfidfVectorizer(stop_words=stop_words, max_df=0.9, min_df=0.2)\n",
        "\n",
        "Tfidf_mat=Tfidf_vect.fit_transform(df['lemmatized_text'])\n",
        "\n",
        "print(Tfidf_mat.shape)"
      ],
      "execution_count": 47,
      "outputs": [
        {
          "output_type": "stream",
          "text": [
            "(36, 657)\n"
          ],
          "name": "stdout"
        }
      ]
    },
    {
      "cell_type": "code",
      "metadata": {
        "id": "wGp8G7TQnCn2",
        "colab_type": "code",
        "colab": {
          "base_uri": "https://localhost:8080/",
          "height": 50
        },
        "outputId": "90ab5fdc-5099-4ba3-b92c-61e08a56b72b"
      },
      "source": [
        "terms = Tfidf_vect.get_feature_names()\n",
        "print(type(terms))\n",
        "terms[:5]"
      ],
      "execution_count": 48,
      "outputs": [
        {
          "output_type": "stream",
          "text": [
            "<class 'list'>\n"
          ],
          "name": "stdout"
        },
        {
          "output_type": "execute_result",
          "data": {
            "text/plain": [
              "['ability', 'able', 'achieve', 'across', 'act']"
            ]
          },
          "metadata": {
            "tags": []
          },
          "execution_count": 48
        }
      ]
    },
    {
      "cell_type": "code",
      "metadata": {
        "id": "sf8dcDEmnCn5",
        "colab_type": "code",
        "colab": {
          "base_uri": "https://localhost:8080/",
          "height": 244
        },
        "outputId": "d14b7411-ecdd-4373-e38b-0db6765b02a8"
      },
      "source": [
        "# Coverting to dense matrix and putting in a dataframe to view the Tfidf matrix\n",
        "Dense_mat = Tfidf_mat.todense()\n",
        "Tfidf_Mat = pd.DataFrame(Dense_mat, columns=Tfidf_vect.get_feature_names())\n",
        "\n",
        "# Tfidf_Mat.shape\n",
        "Tfidf_Mat.head()"
      ],
      "execution_count": 50,
      "outputs": [
        {
          "output_type": "execute_result",
          "data": {
            "text/html": [
              "<div>\n",
              "<style scoped>\n",
              "    .dataframe tbody tr th:only-of-type {\n",
              "        vertical-align: middle;\n",
              "    }\n",
              "\n",
              "    .dataframe tbody tr th {\n",
              "        vertical-align: top;\n",
              "    }\n",
              "\n",
              "    .dataframe thead th {\n",
              "        text-align: right;\n",
              "    }\n",
              "</style>\n",
              "<table border=\"1\" class=\"dataframe\">\n",
              "  <thead>\n",
              "    <tr style=\"text-align: right;\">\n",
              "      <th></th>\n",
              "      <th>ability</th>\n",
              "      <th>able</th>\n",
              "      <th>achieve</th>\n",
              "      <th>across</th>\n",
              "      <th>act</th>\n",
              "      <th>action</th>\n",
              "      <th>address</th>\n",
              "      <th>administration</th>\n",
              "      <th>afford</th>\n",
              "      <th>age</th>\n",
              "      <th>ago</th>\n",
              "      <th>agree</th>\n",
              "      <th>ahead</th>\n",
              "      <th>aim</th>\n",
              "      <th>alone</th>\n",
              "      <th>already</th>\n",
              "      <th>also</th>\n",
              "      <th>always</th>\n",
              "      <th>america</th>\n",
              "      <th>american</th>\n",
              "      <th>among</th>\n",
              "      <th>another</th>\n",
              "      <th>answer</th>\n",
              "      <th>anyone</th>\n",
              "      <th>anything</th>\n",
              "      <th>apply</th>\n",
              "      <th>area</th>\n",
              "      <th>arm</th>\n",
              "      <th>around</th>\n",
              "      <th>arrive</th>\n",
              "      <th>ask</th>\n",
              "      <th>attack</th>\n",
              "      <th>available</th>\n",
              "      <th>away</th>\n",
              "      <th>back</th>\n",
              "      <th>bad</th>\n",
              "      <th>base</th>\n",
              "      <th>become</th>\n",
              "      <th>begin</th>\n",
              "      <th>behind</th>\n",
              "      <th>...</th>\n",
              "      <th>village</th>\n",
              "      <th>vision</th>\n",
              "      <th>visit</th>\n",
              "      <th>vital</th>\n",
              "      <th>voice</th>\n",
              "      <th>volunteer</th>\n",
              "      <th>vote</th>\n",
              "      <th>wage</th>\n",
              "      <th>wait</th>\n",
              "      <th>walk</th>\n",
              "      <th>want</th>\n",
              "      <th>war</th>\n",
              "      <th>washington</th>\n",
              "      <th>watch</th>\n",
              "      <th>water</th>\n",
              "      <th>way</th>\n",
              "      <th>wealth</th>\n",
              "      <th>week</th>\n",
              "      <th>well</th>\n",
              "      <th>whatever</th>\n",
              "      <th>whether</th>\n",
              "      <th>white</th>\n",
              "      <th>willing</th>\n",
              "      <th>win</th>\n",
              "      <th>wish</th>\n",
              "      <th>within</th>\n",
              "      <th>without</th>\n",
              "      <th>witness</th>\n",
              "      <th>woman</th>\n",
              "      <th>wonder</th>\n",
              "      <th>word</th>\n",
              "      <th>worker</th>\n",
              "      <th>world</th>\n",
              "      <th>would</th>\n",
              "      <th>write</th>\n",
              "      <th>year</th>\n",
              "      <th>yes</th>\n",
              "      <th>yet</th>\n",
              "      <th>young</th>\n",
              "      <th>youth</th>\n",
              "    </tr>\n",
              "  </thead>\n",
              "  <tbody>\n",
              "    <tr>\n",
              "      <th>0</th>\n",
              "      <td>0.000000</td>\n",
              "      <td>0.000000</td>\n",
              "      <td>0.07682</td>\n",
              "      <td>0.018658</td>\n",
              "      <td>0.000000</td>\n",
              "      <td>0.000000</td>\n",
              "      <td>0.0</td>\n",
              "      <td>0.000000</td>\n",
              "      <td>0.000000</td>\n",
              "      <td>0.000000</td>\n",
              "      <td>0.023061</td>\n",
              "      <td>0.030939</td>\n",
              "      <td>0.079288</td>\n",
              "      <td>0.00000</td>\n",
              "      <td>0.030939</td>\n",
              "      <td>0.025505</td>\n",
              "      <td>0.000000</td>\n",
              "      <td>0.044673</td>\n",
              "      <td>0.261211</td>\n",
              "      <td>0.162971</td>\n",
              "      <td>0.0</td>\n",
              "      <td>0.000000</td>\n",
              "      <td>0.132147</td>\n",
              "      <td>0.032351</td>\n",
              "      <td>0.028496</td>\n",
              "      <td>0.000000</td>\n",
              "      <td>0.0</td>\n",
              "      <td>0.032351</td>\n",
              "      <td>0.041990</td>\n",
              "      <td>0.000000</td>\n",
              "      <td>0.03841</td>\n",
              "      <td>0.000000</td>\n",
              "      <td>0.0</td>\n",
              "      <td>0.000000</td>\n",
              "      <td>0.074632</td>\n",
              "      <td>0.023827</td>\n",
              "      <td>0.00000</td>\n",
              "      <td>0.000000</td>\n",
              "      <td>0.067009</td>\n",
              "      <td>0.000000</td>\n",
              "      <td>...</td>\n",
              "      <td>0.000000</td>\n",
              "      <td>0.000000</td>\n",
              "      <td>0.000000</td>\n",
              "      <td>0.000000</td>\n",
              "      <td>0.113982</td>\n",
              "      <td>0.032351</td>\n",
              "      <td>0.085487</td>\n",
              "      <td>0.000000</td>\n",
              "      <td>0.028496</td>\n",
              "      <td>0.000000</td>\n",
              "      <td>0.016669</td>\n",
              "      <td>0.024640</td>\n",
              "      <td>0.025505</td>\n",
              "      <td>0.059324</td>\n",
              "      <td>0.000000</td>\n",
              "      <td>0.031550</td>\n",
              "      <td>0.032351</td>\n",
              "      <td>0.000000</td>\n",
              "      <td>0.029874</td>\n",
              "      <td>0.000000</td>\n",
              "      <td>0.000000</td>\n",
              "      <td>0.079288</td>\n",
              "      <td>0.000000</td>\n",
              "      <td>0.026429</td>\n",
              "      <td>0.0</td>\n",
              "      <td>0.0</td>\n",
              "      <td>0.046122</td>\n",
              "      <td>0.032351</td>\n",
              "      <td>0.104974</td>\n",
              "      <td>0.088985</td>\n",
              "      <td>0.000000</td>\n",
              "      <td>0.000000</td>\n",
              "      <td>0.078874</td>\n",
              "      <td>0.030698</td>\n",
              "      <td>0.000000</td>\n",
              "      <td>0.092095</td>\n",
              "      <td>0.199469</td>\n",
              "      <td>0.029662</td>\n",
              "      <td>0.064946</td>\n",
              "      <td>0.0</td>\n",
              "    </tr>\n",
              "    <tr>\n",
              "      <th>1</th>\n",
              "      <td>0.030174</td>\n",
              "      <td>0.000000</td>\n",
              "      <td>0.01873</td>\n",
              "      <td>0.054589</td>\n",
              "      <td>0.025775</td>\n",
              "      <td>0.025775</td>\n",
              "      <td>0.0</td>\n",
              "      <td>0.000000</td>\n",
              "      <td>0.057856</td>\n",
              "      <td>0.083371</td>\n",
              "      <td>0.022490</td>\n",
              "      <td>0.000000</td>\n",
              "      <td>0.000000</td>\n",
              "      <td>0.02779</td>\n",
              "      <td>0.030174</td>\n",
              "      <td>0.024874</td>\n",
              "      <td>0.033430</td>\n",
              "      <td>0.021784</td>\n",
              "      <td>0.181963</td>\n",
              "      <td>0.099336</td>\n",
              "      <td>0.0</td>\n",
              "      <td>0.000000</td>\n",
              "      <td>0.051551</td>\n",
              "      <td>0.000000</td>\n",
              "      <td>0.000000</td>\n",
              "      <td>0.030174</td>\n",
              "      <td>0.0</td>\n",
              "      <td>0.000000</td>\n",
              "      <td>0.020475</td>\n",
              "      <td>0.000000</td>\n",
              "      <td>0.01873</td>\n",
              "      <td>0.000000</td>\n",
              "      <td>0.0</td>\n",
              "      <td>0.000000</td>\n",
              "      <td>0.036393</td>\n",
              "      <td>0.023238</td>\n",
              "      <td>0.02403</td>\n",
              "      <td>0.000000</td>\n",
              "      <td>0.065351</td>\n",
              "      <td>0.000000</td>\n",
              "      <td>...</td>\n",
              "      <td>0.030174</td>\n",
              "      <td>0.021113</td>\n",
              "      <td>0.000000</td>\n",
              "      <td>0.028928</td>\n",
              "      <td>0.000000</td>\n",
              "      <td>0.000000</td>\n",
              "      <td>0.000000</td>\n",
              "      <td>0.028928</td>\n",
              "      <td>0.000000</td>\n",
              "      <td>0.000000</td>\n",
              "      <td>0.000000</td>\n",
              "      <td>0.048060</td>\n",
              "      <td>0.000000</td>\n",
              "      <td>0.028928</td>\n",
              "      <td>0.053488</td>\n",
              "      <td>0.046153</td>\n",
              "      <td>0.063102</td>\n",
              "      <td>0.024874</td>\n",
              "      <td>0.058269</td>\n",
              "      <td>0.000000</td>\n",
              "      <td>0.099494</td>\n",
              "      <td>0.000000</td>\n",
              "      <td>0.051551</td>\n",
              "      <td>0.000000</td>\n",
              "      <td>0.0</td>\n",
              "      <td>0.0</td>\n",
              "      <td>0.044981</td>\n",
              "      <td>0.000000</td>\n",
              "      <td>0.102377</td>\n",
              "      <td>0.028928</td>\n",
              "      <td>0.089962</td>\n",
              "      <td>0.051551</td>\n",
              "      <td>0.107691</td>\n",
              "      <td>0.014969</td>\n",
              "      <td>0.000000</td>\n",
              "      <td>0.044908</td>\n",
              "      <td>0.027790</td>\n",
              "      <td>0.057856</td>\n",
              "      <td>0.021113</td>\n",
              "      <td>0.0</td>\n",
              "    </tr>\n",
              "    <tr>\n",
              "      <th>2</th>\n",
              "      <td>0.000000</td>\n",
              "      <td>0.000000</td>\n",
              "      <td>0.00000</td>\n",
              "      <td>0.018595</td>\n",
              "      <td>0.052681</td>\n",
              "      <td>0.000000</td>\n",
              "      <td>0.0</td>\n",
              "      <td>0.000000</td>\n",
              "      <td>0.059124</td>\n",
              "      <td>0.000000</td>\n",
              "      <td>0.022983</td>\n",
              "      <td>0.000000</td>\n",
              "      <td>0.000000</td>\n",
              "      <td>0.00000</td>\n",
              "      <td>0.000000</td>\n",
              "      <td>0.000000</td>\n",
              "      <td>0.034162</td>\n",
              "      <td>0.022261</td>\n",
              "      <td>0.204546</td>\n",
              "      <td>0.040605</td>\n",
              "      <td>0.0</td>\n",
              "      <td>0.019709</td>\n",
              "      <td>0.000000</td>\n",
              "      <td>0.000000</td>\n",
              "      <td>0.000000</td>\n",
              "      <td>0.000000</td>\n",
              "      <td>0.0</td>\n",
              "      <td>0.000000</td>\n",
              "      <td>0.041848</td>\n",
              "      <td>0.000000</td>\n",
              "      <td>0.00000</td>\n",
              "      <td>0.027330</td>\n",
              "      <td>0.0</td>\n",
              "      <td>0.068950</td>\n",
              "      <td>0.111570</td>\n",
              "      <td>0.047494</td>\n",
              "      <td>0.00000</td>\n",
              "      <td>0.000000</td>\n",
              "      <td>0.044522</td>\n",
              "      <td>0.056799</td>\n",
              "      <td>...</td>\n",
              "      <td>0.000000</td>\n",
              "      <td>0.000000</td>\n",
              "      <td>0.000000</td>\n",
              "      <td>0.000000</td>\n",
              "      <td>0.198797</td>\n",
              "      <td>0.032242</td>\n",
              "      <td>0.028400</td>\n",
              "      <td>0.000000</td>\n",
              "      <td>0.000000</td>\n",
              "      <td>0.028400</td>\n",
              "      <td>0.066450</td>\n",
              "      <td>0.000000</td>\n",
              "      <td>0.025419</td>\n",
              "      <td>0.000000</td>\n",
              "      <td>0.000000</td>\n",
              "      <td>0.047165</td>\n",
              "      <td>0.000000</td>\n",
              "      <td>0.000000</td>\n",
              "      <td>0.014886</td>\n",
              "      <td>0.032242</td>\n",
              "      <td>0.000000</td>\n",
              "      <td>0.026340</td>\n",
              "      <td>0.131702</td>\n",
              "      <td>0.026340</td>\n",
              "      <td>0.0</td>\n",
              "      <td>0.0</td>\n",
              "      <td>0.022983</td>\n",
              "      <td>0.032242</td>\n",
              "      <td>0.167393</td>\n",
              "      <td>0.000000</td>\n",
              "      <td>0.045967</td>\n",
              "      <td>0.000000</td>\n",
              "      <td>0.047165</td>\n",
              "      <td>0.045892</td>\n",
              "      <td>0.000000</td>\n",
              "      <td>0.061190</td>\n",
              "      <td>0.028400</td>\n",
              "      <td>0.000000</td>\n",
              "      <td>0.021576</td>\n",
              "      <td>0.0</td>\n",
              "    </tr>\n",
              "    <tr>\n",
              "      <th>3</th>\n",
              "      <td>0.000000</td>\n",
              "      <td>0.022221</td>\n",
              "      <td>0.00866</td>\n",
              "      <td>0.025239</td>\n",
              "      <td>0.000000</td>\n",
              "      <td>0.000000</td>\n",
              "      <td>0.0</td>\n",
              "      <td>0.014588</td>\n",
              "      <td>0.053499</td>\n",
              "      <td>0.000000</td>\n",
              "      <td>0.031195</td>\n",
              "      <td>0.055804</td>\n",
              "      <td>0.035752</td>\n",
              "      <td>0.00000</td>\n",
              "      <td>0.055804</td>\n",
              "      <td>0.011500</td>\n",
              "      <td>0.061825</td>\n",
              "      <td>0.020143</td>\n",
              "      <td>0.218741</td>\n",
              "      <td>0.238828</td>\n",
              "      <td>0.0</td>\n",
              "      <td>0.008917</td>\n",
              "      <td>0.000000</td>\n",
              "      <td>0.014588</td>\n",
              "      <td>0.012849</td>\n",
              "      <td>0.000000</td>\n",
              "      <td>0.0</td>\n",
              "      <td>0.000000</td>\n",
              "      <td>0.009467</td>\n",
              "      <td>0.000000</td>\n",
              "      <td>0.01732</td>\n",
              "      <td>0.012365</td>\n",
              "      <td>0.0</td>\n",
              "      <td>0.020797</td>\n",
              "      <td>0.050479</td>\n",
              "      <td>0.010744</td>\n",
              "      <td>0.00000</td>\n",
              "      <td>0.008917</td>\n",
              "      <td>0.000000</td>\n",
              "      <td>0.000000</td>\n",
              "      <td>...</td>\n",
              "      <td>0.000000</td>\n",
              "      <td>0.000000</td>\n",
              "      <td>0.012365</td>\n",
              "      <td>0.000000</td>\n",
              "      <td>0.000000</td>\n",
              "      <td>0.000000</td>\n",
              "      <td>0.025698</td>\n",
              "      <td>0.040125</td>\n",
              "      <td>0.000000</td>\n",
              "      <td>0.051396</td>\n",
              "      <td>0.022548</td>\n",
              "      <td>0.044441</td>\n",
              "      <td>0.115004</td>\n",
              "      <td>0.080249</td>\n",
              "      <td>0.012365</td>\n",
              "      <td>0.021339</td>\n",
              "      <td>0.014588</td>\n",
              "      <td>0.034501</td>\n",
              "      <td>0.101028</td>\n",
              "      <td>0.014588</td>\n",
              "      <td>0.046002</td>\n",
              "      <td>0.000000</td>\n",
              "      <td>0.011917</td>\n",
              "      <td>0.011917</td>\n",
              "      <td>0.0</td>\n",
              "      <td>0.0</td>\n",
              "      <td>0.041594</td>\n",
              "      <td>0.000000</td>\n",
              "      <td>0.085202</td>\n",
              "      <td>0.000000</td>\n",
              "      <td>0.020797</td>\n",
              "      <td>0.083421</td>\n",
              "      <td>0.028452</td>\n",
              "      <td>0.055369</td>\n",
              "      <td>0.023835</td>\n",
              "      <td>0.076133</td>\n",
              "      <td>0.025698</td>\n",
              "      <td>0.000000</td>\n",
              "      <td>0.078094</td>\n",
              "      <td>0.0</td>\n",
              "    </tr>\n",
              "    <tr>\n",
              "      <th>4</th>\n",
              "      <td>0.000000</td>\n",
              "      <td>0.018900</td>\n",
              "      <td>0.00000</td>\n",
              "      <td>0.014312</td>\n",
              "      <td>0.000000</td>\n",
              "      <td>0.000000</td>\n",
              "      <td>0.0</td>\n",
              "      <td>0.000000</td>\n",
              "      <td>0.136516</td>\n",
              "      <td>0.021858</td>\n",
              "      <td>0.017689</td>\n",
              "      <td>0.023733</td>\n",
              "      <td>0.000000</td>\n",
              "      <td>0.00000</td>\n",
              "      <td>0.000000</td>\n",
              "      <td>0.000000</td>\n",
              "      <td>0.026294</td>\n",
              "      <td>0.034267</td>\n",
              "      <td>0.128807</td>\n",
              "      <td>0.265646</td>\n",
              "      <td>0.0</td>\n",
              "      <td>0.030338</td>\n",
              "      <td>0.000000</td>\n",
              "      <td>0.049632</td>\n",
              "      <td>0.000000</td>\n",
              "      <td>0.000000</td>\n",
              "      <td>0.0</td>\n",
              "      <td>0.049632</td>\n",
              "      <td>0.016104</td>\n",
              "      <td>0.024816</td>\n",
              "      <td>0.00000</td>\n",
              "      <td>0.000000</td>\n",
              "      <td>0.0</td>\n",
              "      <td>0.000000</td>\n",
              "      <td>0.014312</td>\n",
              "      <td>0.018277</td>\n",
              "      <td>0.00000</td>\n",
              "      <td>0.000000</td>\n",
              "      <td>0.102801</td>\n",
              "      <td>0.065574</td>\n",
              "      <td>...</td>\n",
              "      <td>0.000000</td>\n",
              "      <td>0.000000</td>\n",
              "      <td>0.000000</td>\n",
              "      <td>0.000000</td>\n",
              "      <td>0.043716</td>\n",
              "      <td>0.000000</td>\n",
              "      <td>0.021858</td>\n",
              "      <td>0.000000</td>\n",
              "      <td>0.021858</td>\n",
              "      <td>0.021858</td>\n",
              "      <td>0.051144</td>\n",
              "      <td>0.056701</td>\n",
              "      <td>0.097819</td>\n",
              "      <td>0.022753</td>\n",
              "      <td>0.000000</td>\n",
              "      <td>0.000000</td>\n",
              "      <td>0.024816</td>\n",
              "      <td>0.019564</td>\n",
              "      <td>0.126033</td>\n",
              "      <td>0.000000</td>\n",
              "      <td>0.000000</td>\n",
              "      <td>0.020273</td>\n",
              "      <td>0.040546</td>\n",
              "      <td>0.020273</td>\n",
              "      <td>0.0</td>\n",
              "      <td>0.0</td>\n",
              "      <td>0.000000</td>\n",
              "      <td>0.000000</td>\n",
              "      <td>0.096627</td>\n",
              "      <td>0.000000</td>\n",
              "      <td>0.017689</td>\n",
              "      <td>0.060820</td>\n",
              "      <td>0.036301</td>\n",
              "      <td>0.000000</td>\n",
              "      <td>0.000000</td>\n",
              "      <td>0.094191</td>\n",
              "      <td>0.000000</td>\n",
              "      <td>0.000000</td>\n",
              "      <td>0.016606</td>\n",
              "      <td>0.0</td>\n",
              "    </tr>\n",
              "  </tbody>\n",
              "</table>\n",
              "<p>5 rows × 657 columns</p>\n",
              "</div>"
            ],
            "text/plain": [
              "    ability      able  achieve    across  ...       yes       yet     young  youth\n",
              "0  0.000000  0.000000  0.07682  0.018658  ...  0.199469  0.029662  0.064946    0.0\n",
              "1  0.030174  0.000000  0.01873  0.054589  ...  0.027790  0.057856  0.021113    0.0\n",
              "2  0.000000  0.000000  0.00000  0.018595  ...  0.028400  0.000000  0.021576    0.0\n",
              "3  0.000000  0.022221  0.00866  0.025239  ...  0.025698  0.000000  0.078094    0.0\n",
              "4  0.000000  0.018900  0.00000  0.014312  ...  0.000000  0.000000  0.016606    0.0\n",
              "\n",
              "[5 rows x 657 columns]"
            ]
          },
          "metadata": {
            "tags": []
          },
          "execution_count": 50
        }
      ]
    },
    {
      "cell_type": "markdown",
      "metadata": {
        "id": "SYJFknrFnCn9",
        "colab_type": "text"
      },
      "source": [
        "### K-means Clustering"
      ]
    },
    {
      "cell_type": "code",
      "metadata": {
        "id": "UwY-WAQfnCn9",
        "colab_type": "code",
        "colab": {
          "base_uri": "https://localhost:8080/",
          "height": 118
        },
        "outputId": "63c0d799-9290-4a2e-9a9e-e55f9a317c6a"
      },
      "source": [
        "num_clusters = 3\n",
        "\n",
        "km = KMeans(n_clusters=num_clusters, random_state=143)\n",
        "\n",
        "km.fit(Tfidf_mat)\n",
        "clusters = km.labels_.tolist()\n",
        "print(clusters,\"\\n\")\n",
        "\n",
        "centers = km.cluster_centers_\n",
        "print(f\"The cluster centers are {centers} \\n\")"
      ],
      "execution_count": 52,
      "outputs": [
        {
          "output_type": "stream",
          "text": [
            "[1, 1, 1, 1, 1, 1, 1, 1, 1, 1, 1, 1, 2, 0, 0, 2, 2, 2, 0, 0, 2, 0, 2, 0, 1, 1, 1, 1, 1, 1, 1, 1, 1, 1, 1, 1] \n",
            "\n",
            "The cluster centers are [[0.01147462 0.04373769 0.0395802  ... 0.         0.00789218 0.00515348]\n",
            " [0.00841527 0.00950356 0.01436004 ... 0.01626107 0.02836962 0.00543121]\n",
            " [0.00828811 0.00873353 0.03135922 ... 0.00305717 0.0902046  0.0704246 ]] \n",
            "\n"
          ],
          "name": "stdout"
        }
      ]
    },
    {
      "cell_type": "markdown",
      "metadata": {
        "id": "HJdiQoemnCoA",
        "colab_type": "text"
      },
      "source": [
        "### Getting the top words from each cluster"
      ]
    },
    {
      "cell_type": "code",
      "metadata": {
        "scrolled": true,
        "id": "C3ZegafXnCoB",
        "colab_type": "code",
        "colab": {
          "base_uri": "https://localhost:8080/",
          "height": 84
        },
        "outputId": "fde08883-35b3-4bbc-eb27-81b7fe27362c"
      },
      "source": [
        "print(km.cluster_centers_)\n",
        "print(km.cluster_centers_.shape)"
      ],
      "execution_count": 53,
      "outputs": [
        {
          "output_type": "stream",
          "text": [
            "[[0.01147462 0.04373769 0.0395802  ... 0.         0.00789218 0.00515348]\n",
            " [0.00841527 0.00950356 0.01436004 ... 0.01626107 0.02836962 0.00543121]\n",
            " [0.00828811 0.00873353 0.03135922 ... 0.00305717 0.0902046  0.0704246 ]]\n",
            "(3, 657)\n"
          ],
          "name": "stdout"
        }
      ]
    },
    {
      "cell_type": "markdown",
      "metadata": {
        "id": "Nv7utsvInCoD",
        "colab_type": "text"
      },
      "source": [
        "#### argsort()\n",
        "[1,2,3,5,4] -----> sort ---->[1,2,3,4,5]<br>\n",
        "argsort------>[0,1,2,4,3] ---> index of the element in the original list"
      ]
    },
    {
      "cell_type": "code",
      "metadata": {
        "id": "Reigy2banCoE",
        "colab_type": "code",
        "colab": {
          "base_uri": "https://localhost:8080/",
          "height": 67
        },
        "outputId": "e9d41074-6702-4cb6-8515-39d912b66425"
      },
      "source": [
        "km.cluster_centers_.argsort()"
      ],
      "execution_count": 54,
      "outputs": [
        {
          "output_type": "execute_result",
          "data": {
            "text/plain": [
              "array([[146, 463, 159, ..., 477, 133, 574],\n",
              "       [169, 139, 595, ..., 433,  19,  18],\n",
              "       [379, 115, 553, ..., 277, 558, 501]])"
            ]
          },
          "metadata": {
            "tags": []
          },
          "execution_count": 54
        }
      ]
    },
    {
      "cell_type": "code",
      "metadata": {
        "id": "HSshhjvOnCoH",
        "colab_type": "code",
        "colab": {
          "base_uri": "https://localhost:8080/",
          "height": 67
        },
        "outputId": "d834407f-6535-426e-d200-0aa262b62790"
      },
      "source": [
        "## Reversing the list so that index of max element is in 0th index\n",
        "km.cluster_centers_.argsort()[:,::-1]"
      ],
      "execution_count": 55,
      "outputs": [
        {
          "output_type": "execute_result",
          "data": {
            "text/plain": [
              "array([[574, 133, 477, ..., 159, 463, 146],\n",
              "       [ 18,  19, 433, ..., 595, 139, 169],\n",
              "       [501, 558, 277, ..., 553, 115, 379]])"
            ]
          },
          "metadata": {
            "tags": []
          },
          "execution_count": 55
        }
      ]
    },
    {
      "cell_type": "code",
      "metadata": {
        "id": "zmHVpc6LnCoM",
        "colab_type": "code",
        "colab": {
          "base_uri": "https://localhost:8080/",
          "height": 168
        },
        "outputId": "51e82695-bece-4665-830e-1e343d4adfa7"
      },
      "source": [
        "print(\"Top words per cluster:\")\n",
        "order_centroids = km.cluster_centers_.argsort()[:, ::-1] \n",
        "print(\"\\n\")\n",
        "for i in range(num_clusters):\n",
        "    for ind in order_centroids[i, :6]: # replace 6 with n words per cluster\n",
        "        print('%s' % terms[ind].split(' '), end=',')\n",
        "    print(\"\\n\")"
      ],
      "execution_count": 56,
      "outputs": [
        {
          "output_type": "stream",
          "text": [
            "Top words per cluster:\n",
            "\n",
            "\n",
            "['technology'],['development'],['research'],['science'],['mission'],['area'],\n",
            "\n",
            "['america'],['american'],['president'],['people'],['job'],['obama'],\n",
            "\n",
            "['science'],['student'],['india'],['unique'],['teacher'],['laboratory'],\n",
            "\n"
          ],
          "name": "stdout"
        }
      ]
    },
    {
      "cell_type": "code",
      "metadata": {
        "id": "CxIDi39xnCoO",
        "colab_type": "code",
        "colab": {
          "base_uri": "https://localhost:8080/",
          "height": 84
        },
        "outputId": "0d9c3008-522c-4d65-fd35-a8bf34a78695"
      },
      "source": [
        "df['cluster_group'] = clusters\n",
        "cluster_df = pd.DataFrame(df)\n",
        "cluster_df['cluster_group'].value_counts()"
      ],
      "execution_count": 57,
      "outputs": [
        {
          "output_type": "execute_result",
          "data": {
            "text/plain": [
              "1    24\n",
              "2     6\n",
              "0     6\n",
              "Name: cluster_group, dtype: int64"
            ]
          },
          "metadata": {
            "tags": []
          },
          "execution_count": 57
        }
      ]
    },
    {
      "cell_type": "code",
      "metadata": {
        "id": "YCdnNuP9nCoR",
        "colab_type": "code",
        "colab": {
          "base_uri": "https://localhost:8080/",
          "height": 1000
        },
        "outputId": "28bb8359-3cdf-4c39-b17b-7f4e1694af13"
      },
      "source": [
        "cluster_df"
      ],
      "execution_count": 58,
      "outputs": [
        {
          "output_type": "execute_result",
          "data": {
            "text/html": [
              "<div>\n",
              "<style scoped>\n",
              "    .dataframe tbody tr th:only-of-type {\n",
              "        vertical-align: middle;\n",
              "    }\n",
              "\n",
              "    .dataframe tbody tr th {\n",
              "        vertical-align: top;\n",
              "    }\n",
              "\n",
              "    .dataframe thead th {\n",
              "        text-align: right;\n",
              "    }\n",
              "</style>\n",
              "<table border=\"1\" class=\"dataframe\">\n",
              "  <thead>\n",
              "    <tr style=\"text-align: right;\">\n",
              "      <th></th>\n",
              "      <th>speech_text</th>\n",
              "      <th>speaker</th>\n",
              "      <th>clean_text</th>\n",
              "      <th>lemmatized_text</th>\n",
              "      <th>stemmed_text</th>\n",
              "      <th>cluster_group</th>\n",
              "    </tr>\n",
              "  </thead>\n",
              "  <tbody>\n",
              "    <tr>\n",
              "      <th>0</th>\n",
              "      <td>If there is anyone out there who still doubts ...</td>\n",
              "      <td>0</td>\n",
              "      <td>anyone still doubts america place things possi...</td>\n",
              "      <td>anyone still doubt america place thing possibl...</td>\n",
              "      <td>anyon still doubt america place thing possibl ...</td>\n",
              "      <td>1</td>\n",
              "    </tr>\n",
              "    <tr>\n",
              "      <th>1</th>\n",
              "      <td>I stand here today humbled by the task before ...</td>\n",
              "      <td>0</td>\n",
              "      <td>stand today humbled task us grateful trust bes...</td>\n",
              "      <td>stand today humble task u grateful trust besto...</td>\n",
              "      <td>stand today humbl task us grate trust bestow m...</td>\n",
              "      <td>1</td>\n",
              "    </tr>\n",
              "    <tr>\n",
              "      <th>2</th>\n",
              "      <td>What a scene. What a crowd. Thank you for Virg...</td>\n",
              "      <td>0</td>\n",
              "      <td>scene crowd thank virginia crowd chants yes le...</td>\n",
              "      <td>scene crowd thank virginia crowd chant yes let...</td>\n",
              "      <td>scene crowd thank virginia crowd chant ye let ...</td>\n",
              "      <td>1</td>\n",
              "    </tr>\n",
              "    <tr>\n",
              "      <th>3</th>\n",
              "      <td>To Chairman Dean and my great friend Dick Durb...</td>\n",
              "      <td>0</td>\n",
              "      <td>chairman dean great friend dick durbin fellow ...</td>\n",
              "      <td>chairman dean great friend dick durbin fellow ...</td>\n",
              "      <td>chairman dean great friend dick durbin fellow ...</td>\n",
              "      <td>1</td>\n",
              "    </tr>\n",
              "    <tr>\n",
              "      <th>4</th>\n",
              "      <td>Tonight, after fifty-four hard-fought contests...</td>\n",
              "      <td>0</td>\n",
              "      <td>tonight fifty four hard fought contests primar...</td>\n",
              "      <td>tonight fifty four hard fought contest primary...</td>\n",
              "      <td>tonight fifti four hard fought contest primari...</td>\n",
              "      <td>1</td>\n",
              "    </tr>\n",
              "    <tr>\n",
              "      <th>5</th>\n",
              "      <td>You know, some were saying that North Carolina...</td>\n",
              "      <td>0</td>\n",
              "      <td>know saying north carolina would game changer ...</td>\n",
              "      <td>know say north carolina would game changer ele...</td>\n",
              "      <td>know say north carolina would game changer ele...</td>\n",
              "      <td>1</td>\n",
              "    </tr>\n",
              "    <tr>\n",
              "      <th>6</th>\n",
              "      <td>I stand before you as someone who is not oppos...</td>\n",
              "      <td>0</td>\n",
              "      <td>stand someone opposed war circumstances civil ...</td>\n",
              "      <td>stand someone oppose war circumstance civil wa...</td>\n",
              "      <td>stand someon oppos war circumst civil war one ...</td>\n",
              "      <td>1</td>\n",
              "    </tr>\n",
              "    <tr>\n",
              "      <th>7</th>\n",
              "      <td>On behalf of the great state of Illinois, cros...</td>\n",
              "      <td>0</td>\n",
              "      <td>behalf great state illinois crossroads nation ...</td>\n",
              "      <td>behalf great state illinois crossroad nation l...</td>\n",
              "      <td>behalf great state illinoi crossroad nation la...</td>\n",
              "      <td>1</td>\n",
              "    </tr>\n",
              "    <tr>\n",
              "      <th>8</th>\n",
              "      <td>Thank you. It's an honor to be here tonight to...</td>\n",
              "      <td>0</td>\n",
              "      <td>thank honor tonight celebrate one courageous c...</td>\n",
              "      <td>thank honor tonight celebrate one courageous c...</td>\n",
              "      <td>thank honor tonight celebr one courag compassi...</td>\n",
              "      <td>1</td>\n",
              "    </tr>\n",
              "    <tr>\n",
              "      <th>9</th>\n",
              "      <td>Mr. President, I have come to the floor today ...</td>\n",
              "      <td>0</td>\n",
              "      <td>mr president come floor today address pending ...</td>\n",
              "      <td>mr president come floor today address pending ...</td>\n",
              "      <td>mr presid come floor today address pend legisl...</td>\n",
              "      <td>1</td>\n",
              "    </tr>\n",
              "    <tr>\n",
              "      <th>10</th>\n",
              "      <td>I want to congratulate all of you at Campus Pr...</td>\n",
              "      <td>0</td>\n",
              "      <td>want congratulate campus progress work build n...</td>\n",
              "      <td>want congratulate campus progress work build n...</td>\n",
              "      <td>want congratul campu progress work build new g...</td>\n",
              "      <td>1</td>\n",
              "    </tr>\n",
              "    <tr>\n",
              "      <th>11</th>\n",
              "      <td>Mr. President, I rise to speak about an amendm...</td>\n",
              "      <td>0</td>\n",
              "      <td>mr president rise speak amendment tax reconcil...</td>\n",
              "      <td>mr president rise speak amendment tax reconcil...</td>\n",
              "      <td>mr presid rise speak amend tax reconcili bill ...</td>\n",
              "      <td>1</td>\n",
              "    </tr>\n",
              "    <tr>\n",
              "      <th>12</th>\n",
              "      <td>Nation Building with Moral Leadership\\n\\nI wil...</td>\n",
              "      <td>1</td>\n",
              "      <td>nation building moral leadership radiate knowl...</td>\n",
              "      <td>nation building moral leadership radiate knowl...</td>\n",
              "      <td>nation build moral leadership radiat knowledg ...</td>\n",
              "      <td>2</td>\n",
              "    </tr>\n",
              "    <tr>\n",
              "      <th>13</th>\n",
              "      <td>Research missions for doubling the food produc...</td>\n",
              "      <td>1</td>\n",
              "      <td>research missions doubling food production tec...</td>\n",
              "      <td>research mission double food production techno...</td>\n",
              "      <td>research mission doubl food product technolog ...</td>\n",
              "      <td>0</td>\n",
              "    </tr>\n",
              "    <tr>\n",
              "      <th>14</th>\n",
              "      <td>Dear friends, I am happy to address and intera...</td>\n",
              "      <td>1</td>\n",
              "      <td>dear friends happy address interact faculty me...</td>\n",
              "      <td>dear friend happy address interact faculty mem...</td>\n",
              "      <td>dear friend happi address interact faculti mem...</td>\n",
              "      <td>0</td>\n",
              "    </tr>\n",
              "    <tr>\n",
              "      <th>15</th>\n",
              "      <td>Excellence in thinking and actions\\n\\nI am bor...</td>\n",
              "      <td>1</td>\n",
              "      <td>excellence thinking actions born ideas dreams ...</td>\n",
              "      <td>excellence think action born idea dream indeed...</td>\n",
              "      <td>excel think action born idea dream inde deligh...</td>\n",
              "      <td>2</td>\n",
              "    </tr>\n",
              "    <tr>\n",
              "      <th>16</th>\n",
              "      <td>Dear Friends, I am delighted to meet and inter...</td>\n",
              "      <td>1</td>\n",
              "      <td>dear friends delighted meet interact student i...</td>\n",
              "      <td>dear friend delighted meet interact student in...</td>\n",
              "      <td>dear friend delight meet interact student inst...</td>\n",
              "      <td>2</td>\n",
              "    </tr>\n",
              "    <tr>\n",
              "      <th>17</th>\n",
              "      <td>Imagination results into creativity\\nCreativit...</td>\n",
              "      <td>1</td>\n",
              "      <td>imagination results creativity creativity lead...</td>\n",
              "      <td>imagination result creativity creativity lead ...</td>\n",
              "      <td>imagin result creativ creativ lead think think...</td>\n",
              "      <td>2</td>\n",
              "    </tr>\n",
              "    <tr>\n",
              "      <th>18</th>\n",
              "      <td>SCIENCE IS RECIPROCATING\\n\\n\"When you wish upo...</td>\n",
              "      <td>1</td>\n",
              "      <td>science reciprocating wish upon star makes dif...</td>\n",
              "      <td>science reciprocate wish upon star make differ...</td>\n",
              "      <td>scienc reciproc wish upon star make differ any...</td>\n",
              "      <td>0</td>\n",
              "    </tr>\n",
              "    <tr>\n",
              "      <th>19</th>\n",
              "      <td>It does not matter who you are\\n\\nNow I would ...</td>\n",
              "      <td>1</td>\n",
              "      <td>matter would like talk life street boy became ...</td>\n",
              "      <td>matter would like talk life street boy become ...</td>\n",
              "      <td>matter would like talk life street boy becam n...</td>\n",
              "      <td>0</td>\n",
              "    </tr>\n",
              "    <tr>\n",
              "      <th>20</th>\n",
              "      <td>I am delighted to meet and interact with the s...</td>\n",
              "      <td>1</td>\n",
              "      <td>delighted meet interact students mar augusthin...</td>\n",
              "      <td>delighted meet interact student mar augusthino...</td>\n",
              "      <td>delight meet interact student mar augusthinos ...</td>\n",
              "      <td>2</td>\n",
              "    </tr>\n",
              "    <tr>\n",
              "      <th>21</th>\n",
              "      <td>I have seen three dreams which have taken shap...</td>\n",
              "      <td>1</td>\n",
              "      <td>seen three dreams taken shape vision mission r...</td>\n",
              "      <td>see three dream take shape vision mission real...</td>\n",
              "      <td>seen three dream taken shape vision mission re...</td>\n",
              "      <td>0</td>\n",
              "    </tr>\n",
              "    <tr>\n",
              "      <th>22</th>\n",
              "      <td>I am delighted to inaugurate the first IEEE In...</td>\n",
              "      <td>1</td>\n",
              "      <td>delighted inaugurate first ieee international ...</td>\n",
              "      <td>delighted inaugurate first ieee international ...</td>\n",
              "      <td>delight inaugur first ieee intern symposium co...</td>\n",
              "      <td>2</td>\n",
              "    </tr>\n",
              "    <tr>\n",
              "      <th>23</th>\n",
              "      <td>Sustainable development refers to a mode of hu...</td>\n",
              "      <td>1</td>\n",
              "      <td>sustainable development refers mode human deve...</td>\n",
              "      <td>sustainable development refers mode human deve...</td>\n",
              "      <td>sustain develop refer mode human develop resou...</td>\n",
              "      <td>0</td>\n",
              "    </tr>\n",
              "    <tr>\n",
              "      <th>24</th>\n",
              "      <td>ROMNEY: Thank you. Thank you. Thank you. Thank...</td>\n",
              "      <td>2</td>\n",
              "      <td>romney thank thank thank thank friends thank m...</td>\n",
              "      <td>romney thank thank thank thank friend thank mu...</td>\n",
              "      <td>romney thank thank thank thank friend thank mu...</td>\n",
              "      <td>1</td>\n",
              "    </tr>\n",
              "    <tr>\n",
              "      <th>25</th>\n",
              "      <td>Thank you. Its good to be in the home state o...</td>\n",
              "      <td>2</td>\n",
              "      <td>thank good home state next vice president unit...</td>\n",
              "      <td>thank good home state next vice president unit...</td>\n",
              "      <td>thank good home state next vice presid unit st...</td>\n",
              "      <td>1</td>\n",
              "    </tr>\n",
              "    <tr>\n",
              "      <th>26</th>\n",
              "      <td>Thank you all. Its great to be back in Iowa. ...</td>\n",
              "      <td>2</td>\n",
              "      <td>thank great back iowa think last time going se...</td>\n",
              "      <td>thank great back iowa think last time go see p...</td>\n",
              "      <td>thank great back iowa think last time go see p...</td>\n",
              "      <td>1</td>\n",
              "    </tr>\n",
              "    <tr>\n",
              "      <th>27</th>\n",
              "      <td>I particularly appreciate the introduction fro...</td>\n",
              "      <td>2</td>\n",
              "      <td>particularly appreciate introduction good frie...</td>\n",
              "      <td>particularly appreciate introduction good frie...</td>\n",
              "      <td>particularli appreci introduct good friend tir...</td>\n",
              "      <td>1</td>\n",
              "    </tr>\n",
              "    <tr>\n",
              "      <th>28</th>\n",
              "      <td>Thank you, Mr. President. I appreciate the kin...</td>\n",
              "      <td>2</td>\n",
              "      <td>thank mr president appreciate kind words invit...</td>\n",
              "      <td>thank mr president appreciate kind word invita...</td>\n",
              "      <td>thank mr presid appreci kind word invit today ...</td>\n",
              "      <td>1</td>\n",
              "    </tr>\n",
              "    <tr>\n",
              "      <th>29</th>\n",
              "      <td>Thank you, Hector, for that warm introduction....</td>\n",
              "      <td>2</td>\n",
              "      <td>thank hector warm introduction congratulations...</td>\n",
              "      <td>thank hector warm introduction congratulation ...</td>\n",
              "      <td>thank hector warm introduct congratul cristina...</td>\n",
              "      <td>1</td>\n",
              "    </tr>\n",
              "    <tr>\n",
              "      <th>30</th>\n",
              "      <td>Major General Vavala, thank you for your gener...</td>\n",
              "      <td>2</td>\n",
              "      <td>major general vavala thank generous introducti...</td>\n",
              "      <td>major general vavala thank generous introducti...</td>\n",
              "      <td>major gener vavala thank gener introduct thank...</td>\n",
              "      <td>1</td>\n",
              "    </tr>\n",
              "    <tr>\n",
              "      <th>31</th>\n",
              "      <td>Mr. Chairman, delegates. I accept your nominat...</td>\n",
              "      <td>2</td>\n",
              "      <td>mr chairman delegates accept nomination presid...</td>\n",
              "      <td>mr chairman delegate accept nomination preside...</td>\n",
              "      <td>mr chairman deleg accept nomin presid unit sta...</td>\n",
              "      <td>1</td>\n",
              "    </tr>\n",
              "    <tr>\n",
              "      <th>32</th>\n",
              "      <td>Thank you, Ohio. Its good to be back in the B...</td>\n",
              "      <td>2</td>\n",
              "      <td>thank ohio good back buckeye state privilege t...</td>\n",
              "      <td>thank ohio good back buckeye state privilege t...</td>\n",
              "      <td>thank ohio good back buckey state privileg two...</td>\n",
              "      <td>1</td>\n",
              "    </tr>\n",
              "    <tr>\n",
              "      <th>33</th>\n",
              "      <td>September 21, 2012, Written words nor my own s...</td>\n",
              "      <td>2</td>\n",
              "      <td>september written words spoken words never nev...</td>\n",
              "      <td>september write word spoken word never never h...</td>\n",
              "      <td>septemb written word spoken word never never h...</td>\n",
              "      <td>1</td>\n",
              "    </tr>\n",
              "    <tr>\n",
              "      <th>34</th>\n",
              "      <td>Ladies and gentlemen:\\n\\nIts great to be back...</td>\n",
              "      <td>2</td>\n",
              "      <td>ladies gentlemen great back virginia norfolk c...</td>\n",
              "      <td>lady gentleman great back virginia norfolk cit...</td>\n",
              "      <td>ladi gentlemen great back virginia norfolk cit...</td>\n",
              "      <td>1</td>\n",
              "    </tr>\n",
              "    <tr>\n",
              "      <th>35</th>\n",
              "      <td>Thank you, New Hampshire! Tonight, we made his...</td>\n",
              "      <td>2</td>\n",
              "      <td>thank new hampshire tonight made history state...</td>\n",
              "      <td>thank new hampshire tonight make history state...</td>\n",
              "      <td>thank new hampshir tonight made histori state ...</td>\n",
              "      <td>1</td>\n",
              "    </tr>\n",
              "  </tbody>\n",
              "</table>\n",
              "</div>"
            ],
            "text/plain": [
              "                                          speech_text  ...  cluster_group\n",
              "0   If there is anyone out there who still doubts ...  ...              1\n",
              "1   I stand here today humbled by the task before ...  ...              1\n",
              "2   What a scene. What a crowd. Thank you for Virg...  ...              1\n",
              "3   To Chairman Dean and my great friend Dick Durb...  ...              1\n",
              "4   Tonight, after fifty-four hard-fought contests...  ...              1\n",
              "5   You know, some were saying that North Carolina...  ...              1\n",
              "6   I stand before you as someone who is not oppos...  ...              1\n",
              "7   On behalf of the great state of Illinois, cros...  ...              1\n",
              "8   Thank you. It's an honor to be here tonight to...  ...              1\n",
              "9   Mr. President, I have come to the floor today ...  ...              1\n",
              "10  I want to congratulate all of you at Campus Pr...  ...              1\n",
              "11  Mr. President, I rise to speak about an amendm...  ...              1\n",
              "12  Nation Building with Moral Leadership\\n\\nI wil...  ...              2\n",
              "13  Research missions for doubling the food produc...  ...              0\n",
              "14  Dear friends, I am happy to address and intera...  ...              0\n",
              "15  Excellence in thinking and actions\\n\\nI am bor...  ...              2\n",
              "16  Dear Friends, I am delighted to meet and inter...  ...              2\n",
              "17  Imagination results into creativity\\nCreativit...  ...              2\n",
              "18  SCIENCE IS RECIPROCATING\\n\\n\"When you wish upo...  ...              0\n",
              "19  It does not matter who you are\\n\\nNow I would ...  ...              0\n",
              "20  I am delighted to meet and interact with the s...  ...              2\n",
              "21  I have seen three dreams which have taken shap...  ...              0\n",
              "22  I am delighted to inaugurate the first IEEE In...  ...              2\n",
              "23  Sustainable development refers to a mode of hu...  ...              0\n",
              "24  ROMNEY: Thank you. Thank you. Thank you. Thank...  ...              1\n",
              "25  Thank you. Its good to be in the home state o...  ...              1\n",
              "26  Thank you all. Its great to be back in Iowa. ...  ...              1\n",
              "27  I particularly appreciate the introduction fro...  ...              1\n",
              "28  Thank you, Mr. President. I appreciate the kin...  ...              1\n",
              "29  Thank you, Hector, for that warm introduction....  ...              1\n",
              "30  Major General Vavala, thank you for your gener...  ...              1\n",
              "31  Mr. Chairman, delegates. I accept your nominat...  ...              1\n",
              "32  Thank you, Ohio. Its good to be back in the B...  ...              1\n",
              "33  September 21, 2012, Written words nor my own s...  ...              1\n",
              "34  Ladies and gentlemen:\\n\\nIts great to be back...  ...              1\n",
              "35  Thank you, New Hampshire! Tonight, we made his...  ...              1\n",
              "\n",
              "[36 rows x 6 columns]"
            ]
          },
          "metadata": {
            "tags": []
          },
          "execution_count": 58
        }
      ]
    },
    {
      "cell_type": "markdown",
      "metadata": {
        "id": "QSf1UuS_nCoV",
        "colab_type": "text"
      },
      "source": [
        "#### Fetching the most frequent words from each cluster\n",
        "\n",
        "Step 1) Tokenize the entire text <br>\n",
        "Step 2) Group the tokenized text by cluster id (output is list of lists: [[],[],[]])<br>\n",
        "Step 3) Unlist the array of lists for each cluster group using chain function from itertools"
      ]
    },
    {
      "cell_type": "code",
      "metadata": {
        "id": "fXn0420dnCoV",
        "colab_type": "code",
        "colab": {}
      },
      "source": [
        "## Step 1\n",
        "cluster_df['tokenized_text'] = [text.split(' ') for text in cluster_df['lemmatized_text']]"
      ],
      "execution_count": 0,
      "outputs": []
    },
    {
      "cell_type": "code",
      "metadata": {
        "id": "RCper3NanCoY",
        "colab_type": "code",
        "colab": {}
      },
      "source": [
        "## Step 2\n",
        "grouped_text = cluster_df.groupby('cluster_group')['tokenized_text']"
      ],
      "execution_count": 0,
      "outputs": []
    },
    {
      "cell_type": "code",
      "metadata": {
        "scrolled": true,
        "id": "ht5MfGVonCoa",
        "colab_type": "code",
        "colab": {
          "base_uri": "https://localhost:8080/",
          "height": 134
        },
        "outputId": "c8089abc-0946-4c5b-d5bc-3e52a5bbebf1"
      },
      "source": [
        "## Fetch entire tokenized text for specific group\n",
        "grouped_text.get_group(0)"
      ],
      "execution_count": 61,
      "outputs": [
        {
          "output_type": "execute_result",
          "data": {
            "text/plain": [
              "13    [research, mission, double, food, production, ...\n",
              "14    [dear, friend, happy, address, interact, facul...\n",
              "18    [science, reciprocate, wish, upon, star, make,...\n",
              "19    [matter, would, like, talk, life, street, boy,...\n",
              "21    [see, three, dream, take, shape, vision, missi...\n",
              "23    [sustainable, development, refers, mode, human...\n",
              "Name: tokenized_text, dtype: object"
            ]
          },
          "metadata": {
            "tags": []
          },
          "execution_count": 61
        }
      ]
    },
    {
      "cell_type": "code",
      "metadata": {
        "id": "ZGlrmiYRnCod",
        "colab_type": "code",
        "colab": {
          "base_uri": "https://localhost:8080/",
          "height": 136
        },
        "outputId": "e2357405-66eb-4c56-c1b7-5ef3189631a2"
      },
      "source": [
        "frequent_words_df = pd.DataFrame(columns={\"values\", \"counts\", \"cluster_id\"})\n",
        "\n",
        "for num in range(num_clusters):\n",
        "    values, counts = np.unique(list(chain.from_iterable(grouped_text.get_group(num))), return_counts=True)\n",
        "    sorted_indices = np.argsort(-counts)\n",
        "    frequent_words_df = frequent_words_df.append({\"values\":values[sorted_indices], \"counts\":counts[sorted_indices], \"cluster_id\": num}, ignore_index=True)\n",
        "    \n",
        "frequent_words_df.head()"
      ],
      "execution_count": 62,
      "outputs": [
        {
          "output_type": "execute_result",
          "data": {
            "text/html": [
              "<div>\n",
              "<style scoped>\n",
              "    .dataframe tbody tr th:only-of-type {\n",
              "        vertical-align: middle;\n",
              "    }\n",
              "\n",
              "    .dataframe tbody tr th {\n",
              "        vertical-align: top;\n",
              "    }\n",
              "\n",
              "    .dataframe thead th {\n",
              "        text-align: right;\n",
              "    }\n",
              "</style>\n",
              "<table border=\"1\" class=\"dataframe\">\n",
              "  <thead>\n",
              "    <tr style=\"text-align: right;\">\n",
              "      <th></th>\n",
              "      <th>cluster_id</th>\n",
              "      <th>counts</th>\n",
              "      <th>values</th>\n",
              "    </tr>\n",
              "  </thead>\n",
              "  <tbody>\n",
              "    <tr>\n",
              "      <th>0</th>\n",
              "      <td>0</td>\n",
              "      <td>[83, 58, 55, 52, 51, 50, 46, 42, 41, 41, 39, 3...</td>\n",
              "      <td>[technology, development, science, system, far...</td>\n",
              "    </tr>\n",
              "    <tr>\n",
              "      <th>1</th>\n",
              "      <td>1</td>\n",
              "      <td>[309, 232, 214, 205, 184, 173, 164, 163, 154, ...</td>\n",
              "      <td>[america, american, u, president, people, work...</td>\n",
              "    </tr>\n",
              "    <tr>\n",
              "      <th>2</th>\n",
              "      <td>2</td>\n",
              "      <td>[185, 119, 67, 65, 61, 58, 58, 55, 54, 53, 52,...</td>\n",
              "      <td>[science, student, friend, one, india, school,...</td>\n",
              "    </tr>\n",
              "  </tbody>\n",
              "</table>\n",
              "</div>"
            ],
            "text/plain": [
              "  cluster_id  ...                                             values\n",
              "0          0  ...  [technology, development, science, system, far...\n",
              "1          1  ...  [america, american, u, president, people, work...\n",
              "2          2  ...  [science, student, friend, one, india, school,...\n",
              "\n",
              "[3 rows x 3 columns]"
            ]
          },
          "metadata": {
            "tags": []
          },
          "execution_count": 62
        }
      ]
    },
    {
      "cell_type": "code",
      "metadata": {
        "id": "91CF72dInCoj",
        "colab_type": "code",
        "colab": {}
      },
      "source": [
        "cluster1_top_words = str(frequent_words_df.loc[0,'values'][:20])\n",
        "cluster2_top_words = str(frequent_words_df.loc[1,'values'][:20])\n",
        "cluster3_top_words = str(frequent_words_df.loc[2,'values'][:20])"
      ],
      "execution_count": 0,
      "outputs": []
    },
    {
      "cell_type": "markdown",
      "metadata": {
        "id": "3ikg4euenCop",
        "colab_type": "text"
      },
      "source": [
        "#### Visualizing top words for each cluster using Word Cloud"
      ]
    },
    {
      "cell_type": "code",
      "metadata": {
        "id": "M-wZYyB4nCor",
        "colab_type": "code",
        "colab": {
          "base_uri": "https://localhost:8080/",
          "height": 310
        },
        "outputId": "08570b2a-f289-4e72-9e16-76aa7e1645d5"
      },
      "source": [
        "wordcloud = WordCloud(max_font_size=80, background_color=\"brown\",width=800, height=400, margin=2,).generate(cluster1_top_words)\n",
        "plt.figure( figsize=(10,8) )\n",
        "plt.imshow(wordcloud)\n",
        "plt.axis(\"off\")\n",
        "plt.show()"
      ],
      "execution_count": 66,
      "outputs": [
        {
          "output_type": "display_data",
          "data": {
            "image/png": "[encoded data removed]",
            "text/plain": [
              "<Figure size 720x576 with 1 Axes>"
            ]
          },
          "metadata": {
            "tags": []
          }
        }
      ]
    },
    {
      "cell_type": "code",
      "metadata": {
        "id": "0FgfUMY5nCow",
        "colab_type": "code",
        "colab": {
          "base_uri": "https://localhost:8080/",
          "height": 310
        },
        "outputId": "4b3a5020-3cef-46be-95c8-31615b3b2976"
      },
      "source": [
        "wordcloud = WordCloud(max_font_size=80, background_color=\"gray\",width=800, height=400, margin=2,).generate(cluster2_top_words)\n",
        "plt.figure( figsize=(10,8) )\n",
        "plt.imshow(wordcloud)\n",
        "plt.axis(\"off\")\n",
        "plt.show()"
      ],
      "execution_count": 67,
      "outputs": [
        {
          "output_type": "display_data",
          "data": {
            "image/png": "[encoded data removed]",
            "text/plain": [
              "<Figure size 720x576 with 1 Axes>"
            ]
          },
          "metadata": {
            "tags": []
          }
        }
      ]
    },
    {
      "cell_type": "code",
      "metadata": {
        "id": "sZ6buuZynCoz",
        "colab_type": "code",
        "colab": {
          "base_uri": "https://localhost:8080/",
          "height": 310
        },
        "outputId": "913845e8-3e5c-46ca-f80d-b3b1353cc9a4"
      },
      "source": [
        "wordcloud = WordCloud(max_font_size=80, background_color=\"orange\",width=800, height=400, margin=2,).generate(cluster3_top_words)\n",
        "plt.figure( figsize=(10,8) )\n",
        "plt.imshow(wordcloud)\n",
        "plt.axis(\"off\")\n",
        "plt.show()"
      ],
      "execution_count": 68,
      "outputs": [
        {
          "output_type": "display_data",
          "data": {
            "image/png": "[encoded data removed]",
            "text/plain": [
              "<Figure size 720x576 with 1 Axes>"
            ]
          },
          "metadata": {
            "tags": []
          }
        }
      ]
    }
  ]
}